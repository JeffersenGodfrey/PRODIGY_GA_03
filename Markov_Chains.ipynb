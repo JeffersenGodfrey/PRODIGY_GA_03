{
  "nbformat": 4,
  "nbformat_minor": 0,
  "metadata": {
    "colab": {
      "provenance": [],
      "gpuType": "T4",
      "authorship_tag": "ABX9TyOCpMfVRIXaEE8oh3b9SfnE",
      "include_colab_link": true
    },
    "kernelspec": {
      "name": "python3",
      "display_name": "Python 3"
    },
    "language_info": {
      "name": "python"
    },
    "accelerator": "GPU"
  },
  "cells": [
    {
      "cell_type": "markdown",
      "metadata": {
        "id": "view-in-github",
        "colab_type": "text"
      },
      "source": [
        "<a href=\"https://colab.research.google.com/github/JeffersenGodfrey/PRODIGY_GA_03/blob/main/Markov_Chains.ipynb\" target=\"_parent\"><img src=\"https://colab.research.google.com/assets/colab-badge.svg\" alt=\"Open In Colab\"/></a>"
      ]
    },
    {
      "cell_type": "code",
      "execution_count": 1,
      "metadata": {
        "id": "rRF0KZMm6yva"
      },
      "outputs": [],
      "source": [
        "text_a = open(\"sample-2.txt\").read()\n",
        "text_b = open(\"sample-5.txt\").read()"
      ]
    },
    {
      "cell_type": "code",
      "source": [
        "print(text_a[:200])"
      ],
      "metadata": {
        "colab": {
          "base_uri": "https://localhost:8080/"
        },
        "id": "0LT0A_Ew7zEX",
        "outputId": "9764085b-ed57-4608-a442-9218ada45837"
      },
      "execution_count": 2,
      "outputs": [
        {
          "output_type": "stream",
          "name": "stdout",
          "text": [
            "﻿Your Name\n",
            "Lorem ipsum dolor sit amet, consectetuer adipiscing elit\n",
            "\t123 Your Street\n",
            "Your City, ST 12345\n",
            "(123) 456-7890\n",
            "no_reply@example.com\n",
            "\tEXPERIENCE\n",
            "Company, Location — Job Title\n",
            "MONTH 20XX - PRES\n"
          ]
        }
      ]
    },
    {
      "cell_type": "code",
      "source": [
        "import random\n",
        "random.sample(text_b, 20)"
      ],
      "metadata": {
        "colab": {
          "base_uri": "https://localhost:8080/"
        },
        "id": "TIDC9EMt75JH",
        "outputId": "ae845ad8-29cd-4ba5-f735-ef3f746936e6"
      },
      "execution_count": 3,
      "outputs": [
        {
          "output_type": "execute_result",
          "data": {
            "text/plain": [
              "['i',\n",
              " ' ',\n",
              " 'u',\n",
              " 'n',\n",
              " 'i',\n",
              " ' ',\n",
              " 'm',\n",
              " 'u',\n",
              " 'm',\n",
              " ' ',\n",
              " 'i',\n",
              " ' ',\n",
              " ' ',\n",
              " 'l',\n",
              " 't',\n",
              " 't',\n",
              " 'i',\n",
              " ' ',\n",
              " 'a',\n",
              " 'r']"
            ]
          },
          "metadata": {},
          "execution_count": 3
        }
      ]
    },
    {
      "cell_type": "code",
      "source": [
        "a_words = text_a.split()\n",
        "b_words = text_b.split()"
      ],
      "metadata": {
        "id": "_JAEbBIt7_0_"
      },
      "execution_count": 4,
      "outputs": []
    },
    {
      "cell_type": "code",
      "source": [
        "random.sample(a_words, 10)"
      ],
      "metadata": {
        "colab": {
          "base_uri": "https://localhost:8080/"
        },
        "id": "MmqXXB5d8FS3",
        "outputId": "66f7bbac-5a3a-4559-a112-99563646b759"
      },
      "execution_count": 5,
      "outputs": [
        {
          "output_type": "execute_result",
          "data": {
            "text/plain": [
              "['nonummy',\n",
              " 'Consectetuer',\n",
              " '\\ufeffYour',\n",
              " 'volutpat.',\n",
              " 'aliquam',\n",
              " '20XX',\n",
              " 'aliquam',\n",
              " 'Lorem',\n",
              " 'MONTH',\n",
              " 'Lorem']"
            ]
          },
          "metadata": {},
          "execution_count": 5
        }
      ]
    },
    {
      "cell_type": "code",
      "source": [
        "random.sample(b_words, 10)"
      ],
      "metadata": {
        "colab": {
          "base_uri": "https://localhost:8080/"
        },
        "id": "nNmXrj-w8J3s",
        "outputId": "a30d472a-8111-4626-cd00-65428f763fb4"
      },
      "execution_count": 6,
      "outputs": [
        {
          "output_type": "execute_result",
          "data": {
            "text/plain": [
              "['consectetuer',\n",
              " 'dolore',\n",
              " 'wisi',\n",
              " 'Nam',\n",
              " 'aliquam',\n",
              " 'nisl',\n",
              " 'dolor',\n",
              " 'ea',\n",
              " '(123)',\n",
              " 'dolore']"
            ]
          },
          "metadata": {},
          "execution_count": 6
        }
      ]
    },
    {
      "cell_type": "code",
      "source": [
        "from collections import Counter\n",
        "Counter(text_a).most_common(12)"
      ],
      "metadata": {
        "colab": {
          "base_uri": "https://localhost:8080/"
        },
        "id": "Mh8fM4128OXk",
        "outputId": "5975ca16-3e2e-4605-ae4c-5969a16ea54d"
      },
      "execution_count": 7,
      "outputs": [
        {
          "output_type": "execute_result",
          "data": {
            "text/plain": [
              "[(' ', 184),\n",
              " ('e', 112),\n",
              " ('i', 102),\n",
              " ('o', 96),\n",
              " ('t', 91),\n",
              " ('m', 74),\n",
              " ('a', 65),\n",
              " ('n', 60),\n",
              " ('r', 52),\n",
              " ('s', 52),\n",
              " ('u', 49),\n",
              " ('d', 48)]"
            ]
          },
          "metadata": {},
          "execution_count": 7
        }
      ]
    },
    {
      "cell_type": "code",
      "source": [
        "Counter(a_words).most_common(12)"
      ],
      "metadata": {
        "colab": {
          "base_uri": "https://localhost:8080/"
        },
        "id": "Bc4IEcfV8SZA",
        "outputId": "84155ee3-2e2b-485b-d8f6-db7dcac56f18"
      },
      "execution_count": 8,
      "outputs": [
        {
          "output_type": "execute_result",
          "data": {
            "text/plain": [
              "[('Lorem', 11),\n",
              " ('sit', 11),\n",
              " ('ipsum', 10),\n",
              " ('dolor', 10),\n",
              " ('adipiscing', 10),\n",
              " ('MONTH', 9),\n",
              " ('20XX', 9),\n",
              " ('amet,', 8),\n",
              " ('consectetuer', 7),\n",
              " ('elit,', 7),\n",
              " ('diam', 7),\n",
              " ('nonummy', 7)]"
            ]
          },
          "metadata": {},
          "execution_count": 8
        }
      ]
    },
    {
      "cell_type": "code",
      "source": [
        "Counter(b_words).most_common(12)"
      ],
      "metadata": {
        "colab": {
          "base_uri": "https://localhost:8080/"
        },
        "id": "seo-lHj58W9n",
        "outputId": "c0d4aa28-6523-4ff7-9d4d-ba94444ec992"
      },
      "execution_count": 9,
      "outputs": [
        {
          "output_type": "execute_result",
          "data": {
            "text/plain": [
              "[('ut', 8),\n",
              " ('Lorem', 6),\n",
              " ('ipsum', 6),\n",
              " ('dolor', 6),\n",
              " ('dolore', 6),\n",
              " ('in', 6),\n",
              " ('sit', 5),\n",
              " ('amet,', 4),\n",
              " ('consectetuer', 4),\n",
              " ('adipiscing', 4),\n",
              " ('elit,', 4),\n",
              " ('sed', 4)]"
            ]
          },
          "metadata": {},
          "execution_count": 9
        }
      ]
    },
    {
      "cell_type": "markdown",
      "source": [
        "install Markovify on your computer"
      ],
      "metadata": {
        "id": "UI_Ag8rL8gl_"
      }
    },
    {
      "cell_type": "code",
      "source": [
        "import sys\n",
        "!{sys.executable} -m pip install markovify"
      ],
      "metadata": {
        "colab": {
          "base_uri": "https://localhost:8080/"
        },
        "id": "PgQjqxuF8iM1",
        "outputId": "ea879a64-410d-4ec7-a18c-4c3c93a41826"
      },
      "execution_count": 10,
      "outputs": [
        {
          "output_type": "stream",
          "name": "stdout",
          "text": [
            "Collecting markovify\n",
            "  Downloading markovify-0.9.4.tar.gz (27 kB)\n",
            "  Preparing metadata (setup.py) ... \u001b[?25l\u001b[?25hdone\n",
            "Collecting unidecode (from markovify)\n",
            "  Downloading Unidecode-1.3.8-py3-none-any.whl.metadata (13 kB)\n",
            "Downloading Unidecode-1.3.8-py3-none-any.whl (235 kB)\n",
            "\u001b[2K   \u001b[90m━━━━━━━━━━━━━━━━━━━━━━━━━━━━━━━━━━━━━━━━\u001b[0m \u001b[32m235.5/235.5 kB\u001b[0m \u001b[31m21.3 MB/s\u001b[0m eta \u001b[36m0:00:00\u001b[0m\n",
            "\u001b[?25hBuilding wheels for collected packages: markovify\n",
            "  Building wheel for markovify (setup.py) ... \u001b[?25l\u001b[?25hdone\n",
            "  Created wheel for markovify: filename=markovify-0.9.4-py3-none-any.whl size=18607 sha256=6cb7e8f71bbaaf47c5bbdac6465fbfe3607005115e538052dbc6221c6f74a196\n",
            "  Stored in directory: /root/.cache/pip/wheels/ca/8c/c5/41413e24c484f883a100c63ca7b3b0362b7c6f6eb6d7c9cc7f\n",
            "Successfully built markovify\n",
            "Installing collected packages: unidecode, markovify\n",
            "Successfully installed markovify-0.9.4 unidecode-1.3.8\n"
          ]
        }
      ]
    },
    {
      "cell_type": "markdown",
      "source": [
        "And then run this cell to make the library available in your notebook"
      ],
      "metadata": {
        "id": "V2JIV2qD8vsE"
      }
    },
    {
      "cell_type": "code",
      "source": [
        "import markovify"
      ],
      "metadata": {
        "id": "U7J3Mchn8w0B"
      },
      "execution_count": 11,
      "outputs": []
    },
    {
      "cell_type": "code",
      "source": [
        "generator_a = markovify.Text(text_a)"
      ],
      "metadata": {
        "id": "GRHnFtn583Wn"
      },
      "execution_count": 12,
      "outputs": []
    },
    {
      "cell_type": "markdown",
      "source": [
        "You can then call the .make_sentence() method to generate a sentence from the model:"
      ],
      "metadata": {
        "id": "GuEspkyY89rn"
      }
    },
    {
      "cell_type": "code",
      "source": [
        "print(generator_a.make_sentence())"
      ],
      "metadata": {
        "colab": {
          "base_uri": "https://localhost:8080/"
        },
        "id": "tNmEKum68-eS",
        "outputId": "202eb1d3-a5b4-4c5e-f840-a4ea25d3e4db"
      },
      "execution_count": 13,
      "outputs": [
        {
          "output_type": "stream",
          "name": "stdout",
          "text": [
            "LANGUAGES Lorem ipsum, Dolor sit amet, consectetuer adipiscing elit, sed diam nonummy Nibh euismod tincidunt ut laoreet dolore magna aliquam erat volutpat.\n"
          ]
        }
      ]
    },
    {
      "cell_type": "code",
      "source": [
        "print(generator_a.make_short_sentence(50))"
      ],
      "metadata": {
        "colab": {
          "base_uri": "https://localhost:8080/"
        },
        "id": "EvRmR1qV9Hoi",
        "outputId": "204c135e-4b81-4827-cb41-19d6bcb8918b"
      },
      "execution_count": 14,
      "outputs": [
        {
          "output_type": "stream",
          "name": "stdout",
          "text": [
            "AWARDS Lorem ipsum dolor sit amet, Consectetuer\n"
          ]
        }
      ]
    },
    {
      "cell_type": "code",
      "source": [
        "print(generator_a.make_short_sentence(40, tries=100))"
      ],
      "metadata": {
        "colab": {
          "base_uri": "https://localhost:8080/"
        },
        "id": "oZA6RxpP9ND6",
        "outputId": "44801e19-f32c-4efd-f84d-77c0969362f1"
      },
      "execution_count": 15,
      "outputs": [
        {
          "output_type": "stream",
          "name": "stdout",
          "text": [
            "* Sed diam nonummy nibh.\n"
          ]
        }
      ]
    },
    {
      "cell_type": "code",
      "source": [
        "print(generator_a.make_short_sentence(40, test_output=False))"
      ],
      "metadata": {
        "colab": {
          "base_uri": "https://localhost:8080/"
        },
        "id": "84SUH3pn9mgc",
        "outputId": "8f3ad998-b4e3-4122-c1a6-6c3a9de83ffa"
      },
      "execution_count": 16,
      "outputs": [
        {
          "output_type": "stream",
          "name": "stdout",
          "text": [
            "* Consectetuer adipiscing elit.\n"
          ]
        }
      ]
    },
    {
      "cell_type": "code",
      "source": [
        "gen_a_1 = markovify.Text(text_a, state_size=1)\n",
        "gen_a_4 = markovify.Text(text_a, state_size=4)"
      ],
      "metadata": {
        "id": "9NxP5KME9q8T"
      },
      "execution_count": 17,
      "outputs": []
    },
    {
      "cell_type": "code",
      "source": [
        "print(\"order 1\")\n",
        "print(gen_a_1.make_sentence(test_output=False))\n",
        "print()\n",
        "print(\"order 4\")\n",
        "print(gen_a_4.make_sentence(test_output=False))"
      ],
      "metadata": {
        "colab": {
          "base_uri": "https://localhost:8080/"
        },
        "id": "_lJyBLCi9x-M",
        "outputId": "f5c352b8-5be9-4cca-ef94-444c742f8a52"
      },
      "execution_count": 18,
      "outputs": [
        {
          "output_type": "stream",
          "name": "stdout",
          "text": [
            "order 1\n",
            "LANGUAGES Lorem ipsum dolor sit amet, consectetuer adipiscing elit.\n",
            "\n",
            "order 4\n",
            "* Sed diam nonummy nibh euismod tincidunt ut laoreet dolore magna aliquam erat volutpat.\n"
          ]
        }
      ]
    },
    {
      "cell_type": "code",
      "source": [
        "class SentencesByChar(markovify.Text):\n",
        "    def word_split(self, sentence):\n",
        "        return list(sentence)\n",
        "    def word_join(self, words):\n",
        "        return \"\".join(words)"
      ],
      "metadata": {
        "id": "yQSyzZ3r92sq"
      },
      "execution_count": 19,
      "outputs": []
    },
    {
      "cell_type": "code",
      "source": [
        "con_model = SentencesByChar(\"condescendences\", state_size=2)"
      ],
      "metadata": {
        "id": "rDtnvmpD96k0"
      },
      "execution_count": 20,
      "outputs": []
    },
    {
      "cell_type": "code",
      "source": [
        "con_model.make_sentence()"
      ],
      "metadata": {
        "colab": {
          "base_uri": "https://localhost:8080/",
          "height": 35
        },
        "id": "Gup6SP_g9-c1",
        "outputId": "4b3ef8e6-8ceb-4865-cdce-a27ac8e00968"
      },
      "execution_count": 21,
      "outputs": [
        {
          "output_type": "execute_result",
          "data": {
            "text/plain": [
              "'condencesces'"
            ],
            "application/vnd.google.colaboratory.intrinsic+json": {
              "type": "string"
            }
          },
          "metadata": {},
          "execution_count": 21
        }
      ]
    },
    {
      "cell_type": "code",
      "source": [
        "gen_a_char = SentencesByChar(text_a, state_size=7)"
      ],
      "metadata": {
        "id": "xjUAlla4-DYl"
      },
      "execution_count": 22,
      "outputs": []
    },
    {
      "cell_type": "code",
      "source": [
        "print(gen_a_char.make_sentence(test_output=False).replace(\"\\n\", \" \"))"
      ],
      "metadata": {
        "colab": {
          "base_uri": "https://localhost:8080/"
        },
        "id": "6QoceoML-HZV",
        "outputId": "6baa5382-8c05-484a-8dfe-a42a9b6a41c5"
      },
      "execution_count": 23,
      "outputs": [
        {
          "output_type": "stream",
          "name": "stdout",
          "text": [
            "PROJECTS Project Name — Detail Lorem ipsum dolor sit amet Consectetuer adipiscing elit.\n"
          ]
        }
      ]
    },
    {
      "cell_type": "code",
      "source": [
        "generator_a = markovify.Text(text_a)\n",
        "generator_b = markovify.Text(text_b)\n",
        "combo = markovify.combine([generator_a, generator_b], [0.5, 0.5])"
      ],
      "metadata": {
        "id": "0MzboTzW-MJ7"
      },
      "execution_count": 24,
      "outputs": []
    },
    {
      "cell_type": "code",
      "source": [
        "print(combo.make_sentence())"
      ],
      "metadata": {
        "colab": {
          "base_uri": "https://localhost:8080/"
        },
        "id": "I1DO9Tk5-QG_",
        "outputId": "d5bcea0f-4bcc-4df6-8c66-c99e21d726ff"
      },
      "execution_count": 25,
      "outputs": [
        {
          "output_type": "stream",
          "name": "stdout",
          "text": [
            "EDUCATION School Name, Location — Job Title MONTH 20XX Lorem ipsum dolor sit amet, consectetuer adipiscing elit, sed diam nonummy nibh.\n"
          ]
        }
      ]
    },
    {
      "cell_type": "code",
      "source": [
        "# change to \"word\" for a word-level model\n",
        "level = \"char\"\n",
        "# controls the length of the n-gram\n",
        "order = 7\n",
        "# controls the number of lines to output\n",
        "output_n = 14\n",
        "# weights between the models; text A first, text B second.\n",
        "# if you want to completely exclude one model, set its corresponding value to 0\n",
        "weights = [0.5, 0.5]\n",
        "# limit sentence output to this number of characters\n",
        "length_limit = 280"
      ],
      "metadata": {
        "id": "xI1Uh-Ew-Ukd"
      },
      "execution_count": 26,
      "outputs": []
    },
    {
      "cell_type": "code",
      "source": [
        "model_cls = markovify.Text if level == \"word\" else SentencesByChar\n",
        "gen_a = model_cls(text_a, state_size=order)\n",
        "gen_b = model_cls(text_b, state_size=order)\n",
        "gen_combo = markovify.combine([gen_a, gen_b], weights)\n",
        "for i in range(output_n):\n",
        "    out = gen_combo.make_short_sentence(length_limit, test_output=False)\n",
        "    out = out.replace(\"\\n\", \" \")\n",
        "    print(out)\n",
        "    print()"
      ],
      "metadata": {
        "colab": {
          "base_uri": "https://localhost:8080/"
        },
        "id": "frYRVdYh-ZX5",
        "outputId": "9c38fd84-1070-4522-a399-8b71888f58c8"
      },
      "execution_count": 27,
      "outputs": [
        {
          "output_type": "stream",
          "name": "stdout",
          "text": [
            "Details Nam liber tempor cum soluta nobis eleifend option congue nihil imperdiet doming id quod mazim placerat facer possim assum.\n",
            "\n",
            "Lorem ipsum dolor sit Lorem ipsum dolor sit amet, consectetuer adipiscing elit, sed diam.\n",
            "\n",
            "Ut wisi enim ad minim veniam, quis nostrud exerci tation ullamcorper suscipit lobortis nisl ut aliquip ex ea commodo consequat.\n",
            "\n",
            "Company, Location — Job Title MONTH 20XX - MONTH 20XX Lorem ipsum Nam liber tempor cum soluta nobis eleifend option congue nihil imperdiet doming id quod mazim placerat facer possim assum.\n",
            "\n",
            "Ut wisi enim ad minim veniam, quis nostrud exerci tation ullamcorper suscipit lobortis nisl ut aliquip ex ea commodo consequat.\n",
            "\n",
            "Dolor sit amet, consectetuer adipiscing elit, sed diam nonummy nibh.\n",
            "\n",
            "EDUCATION School Name, Location — Degree MONTH 20XX - MONTH 20XX - MONTH 20XX Lorem ipsum dolor sit amet, Consectetuer adipiscing elit, sed diam nonummy nibh.\n",
            "\n",
            "* Consectetuer\n",
            "\n",
            "Details Nam liber tempor cum soluta nobis eleifend option congue nihil imperdiet doming id quod mazim placerat facer possim assum.\n",
            "\n",
            "Duis autem vel eum iriure dolor sit amet, consectetuer adipiscing elit, sed diam nonummy nibh.\n",
            "\n",
            "Duis autem vel eum iriure dolor sit amet Consectetuer adipiscing elit, sed diam nonummy nibh euismod tincidunt.\n",
            "\n",
            "Typi non habent claritatem.\n",
            "\n",
            "LANGUAGES Lorem ipsum dolor in hendrerit in vulputate velit esse molestie consequat.\n",
            "\n",
            "Company, Location — Degree MONTH 20XX - MONTH 20XX Lorem ipsum dolor sit amet, consectetuer\n",
            "\n"
          ]
        }
      ]
    },
    {
      "cell_type": "code",
      "source": [
        "sonnets_text = open(\"sample-5.txt\").read()\n",
        "sonnets_model = markovify.NewlineText(sonnets_text, state_size=1)"
      ],
      "metadata": {
        "id": "aSqbl67N-hXc"
      },
      "execution_count": 29,
      "outputs": []
    },
    {
      "cell_type": "code",
      "source": [
        "sonnets_model.make_sentence()"
      ],
      "metadata": {
        "id": "z6txzUoe-tXm"
      },
      "execution_count": 30,
      "outputs": []
    },
    {
      "cell_type": "code",
      "source": [
        "for i in range(14):\n",
        "    print(sonnets_model.make_sentence())"
      ],
      "metadata": {
        "colab": {
          "base_uri": "https://localhost:8080/"
        },
        "id": "m6JWuFxi-yL9",
        "outputId": "02181809-a3e2-441d-9da4-ff4428f55595"
      },
      "execution_count": 31,
      "outputs": [
        {
          "output_type": "stream",
          "name": "stdout",
          "text": [
            "None\n",
            "Duis autem vel eum iriure dolor in iis qui facit eorum claritatem.\n",
            "Lorem ipsum dolor in iis qui facit eorum claritatem.\n",
            "Lorem ipsum dolor in hendrerit in hendrerit in iis qui facit eorum claritatem.\n",
            "Dolor sit amet, consectetuer adipiscing elit, sed diam nonummy nibh euismod tincidunt ut laoreet dolore eu feugiat nulla facilisis at vero eros et accumsan.\n",
            "Dolor sit amet, consectetuer adipiscing elit, sed diam nonummy nibh euismod tincidunt ut aliquip ex ea commodo consequat.\n",
            "Lorem ipsum dolor sit amet, consectetuer adipiscing elit, sed diam nonummy nibh euismod tincidunt ut aliquip ex ea commodo consequat. Duis autem vel eum iriure dolor sit amet, consectetuer adipiscing elit, sed diam nonummy nibh euismod tincidunt ut aliquip ex ea commodo consequat.\n",
            "123 Your City, ST 12345\n",
            "None\n",
            "123 Your City, ST 12345\n",
            "Lorem ipsum dolor in iis qui facit eorum claritatem.\n",
            "Nam liber tempor cum soluta nobis eleifend option congue nihil imperdiet doming id quod ii legunt saepius. Lorem ipsum dolor sit\n",
            "None\n",
            "None\n"
          ]
        }
      ]
    },
    {
      "cell_type": "code",
      "source": [
        "class LinesByChar(markovify.NewlineText):\n",
        "    def word_split(self, sentence):\n",
        "        return list(sentence)\n",
        "    def word_join(self, words):\n",
        "        return \"\".join(words)"
      ],
      "metadata": {
        "id": "k3h8X1RH-2P8"
      },
      "execution_count": 32,
      "outputs": []
    },
    {
      "cell_type": "code",
      "source": [
        "sonnets_char_model = LinesByChar(sonnets_text, state_size=4)"
      ],
      "metadata": {
        "id": "5eLgNZhR-6-M"
      },
      "execution_count": 33,
      "outputs": []
    },
    {
      "cell_type": "code",
      "source": [
        "for i in range(14):\n",
        "    print(sonnets_char_model.make_sentence())"
      ],
      "metadata": {
        "colab": {
          "base_uri": "https://localhost:8080/"
        },
        "id": "fqeIz7xZ-_MQ",
        "outputId": "cd6a162f-3fde-4185-f75c-29f8deb7bbee"
      },
      "execution_count": 34,
      "outputs": [
        {
          "output_type": "stream",
          "name": "stdout",
          "text": [
            "None\n",
            "None\n",
            "None\n",
            "Duis nisl ut laoreet\n",
            "None\n",
            "None\n",
            "Nam liber 04, 20XX\n",
            "Dolor in vulputatem.\n",
            "Nam liber 04, 20XX\n",
            "None\n",
            "None\n",
            "None\n",
            "None\n",
            "None\n"
          ]
        }
      ]
    }
  ]
}